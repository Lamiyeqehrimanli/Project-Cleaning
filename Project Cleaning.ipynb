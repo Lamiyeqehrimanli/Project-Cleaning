{
 "cells": [
  {
   "cell_type": "markdown",
   "id": "11754b89-28bc-4ac7-8961-59b8e1d730a4",
   "metadata": {},
   "source": [
    "#  Gahrimanli Lamia  _  Capstone Project  _  Cleaning"
   ]
  },
  {
   "cell_type": "code",
   "execution_count": 218,
   "id": "66445b07-6d1d-4808-9d6b-21ebd929deb5",
   "metadata": {},
   "outputs": [],
   "source": [
    "import pandas as pd\n",
    "import numpy as np\n",
    "import regex as re"
   ]
  },
  {
   "cell_type": "code",
   "execution_count": 220,
   "id": "a66f070b-7122-4f11-aa7d-3a06c7e4cf31",
   "metadata": {},
   "outputs": [
    {
     "data": {
      "text/html": [
       "<div>\n",
       "<style scoped>\n",
       "    .dataframe tbody tr th:only-of-type {\n",
       "        vertical-align: middle;\n",
       "    }\n",
       "\n",
       "    .dataframe tbody tr th {\n",
       "        vertical-align: top;\n",
       "    }\n",
       "\n",
       "    .dataframe thead th {\n",
       "        text-align: right;\n",
       "    }\n",
       "</style>\n",
       "<table border=\"1\" class=\"dataframe\">\n",
       "  <thead>\n",
       "    <tr style=\"text-align: right;\">\n",
       "      <th></th>\n",
       "      <th>0</th>\n",
       "    </tr>\n",
       "  </thead>\n",
       "  <tbody>\n",
       "    <tr>\n",
       "      <th>0</th>\n",
       "      <td>3 PM  Mon 24th-Mar-2014___0.384 kwh</td>\n",
       "    </tr>\n",
       "    <tr>\n",
       "      <th>1</th>\n",
       "      <td>5AM  15-Aug-2014___1.201  kwh</td>\n",
       "    </tr>\n",
       "    <tr>\n",
       "      <th>2</th>\n",
       "      <td>__8PM Thu 20-Mar-2014____1.523 kwh</td>\n",
       "    </tr>\n",
       "    <tr>\n",
       "      <th>3</th>\n",
       "      <td>6PM  23rd-Apr-2014___0.424  kwh</td>\n",
       "    </tr>\n",
       "    <tr>\n",
       "      <th>4</th>\n",
       "      <td>_1AM  Friday 19th-Dec-2014___0.209  kwh</td>\n",
       "    </tr>\n",
       "    <tr>\n",
       "      <th>...</th>\n",
       "      <td>...</td>\n",
       "    </tr>\n",
       "    <tr>\n",
       "      <th>8755</th>\n",
       "      <td>_1AM  Fri 07th-Nov-2014_0.084 kwh</td>\n",
       "    </tr>\n",
       "    <tr>\n",
       "      <th>8756</th>\n",
       "      <td>_6AM 20-May-2014__1.027 kwh</td>\n",
       "    </tr>\n",
       "    <tr>\n",
       "      <th>8757</th>\n",
       "      <td>__2 AM  Tuesday 8th-Apr-2014___0.052 kwh</td>\n",
       "    </tr>\n",
       "    <tr>\n",
       "      <th>8758</th>\n",
       "      <td>9 PM 27th-Jan-2014_1.428  kwh</td>\n",
       "    </tr>\n",
       "    <tr>\n",
       "      <th>8759</th>\n",
       "      <td>_12 PM 25th-Aug-2014_0.528  kwh</td>\n",
       "    </tr>\n",
       "  </tbody>\n",
       "</table>\n",
       "<p>8760 rows × 1 columns</p>\n",
       "</div>"
      ],
      "text/plain": [
       "                                              0\n",
       "0         3 PM  Mon 24th-Mar-2014___0.384 kwh  \n",
       "1                5AM  15-Aug-2014___1.201  kwh \n",
       "2          __8PM Thu 20-Mar-2014____1.523 kwh  \n",
       "3               6PM  23rd-Apr-2014___0.424  kwh\n",
       "4     _1AM  Friday 19th-Dec-2014___0.209  kwh  \n",
       "...                                         ...\n",
       "8755         _1AM  Fri 07th-Nov-2014_0.084 kwh \n",
       "8756                _6AM 20-May-2014__1.027 kwh\n",
       "8757   __2 AM  Tuesday 8th-Apr-2014___0.052 kwh\n",
       "8758            9 PM 27th-Jan-2014_1.428  kwh  \n",
       "8759          _12 PM 25th-Aug-2014_0.528  kwh  \n",
       "\n",
       "[8760 rows x 1 columns]"
      ]
     },
     "execution_count": 220,
     "metadata": {},
     "output_type": "execute_result"
    }
   ],
   "source": [
    "df = pd.read_excel('data_cleaning.xlsx','Usage', header=None)\n",
    "df = pd.DataFrame(df)\n",
    "df"
   ]
  },
  {
   "cell_type": "code",
   "execution_count": 222,
   "id": "087673c7-c921-4ff9-9a33-ecc5dd427dc5",
   "metadata": {},
   "outputs": [
    {
     "data": {
      "text/html": [
       "<div>\n",
       "<style scoped>\n",
       "    .dataframe tbody tr th:only-of-type {\n",
       "        vertical-align: middle;\n",
       "    }\n",
       "\n",
       "    .dataframe tbody tr th {\n",
       "        vertical-align: top;\n",
       "    }\n",
       "\n",
       "    .dataframe thead th {\n",
       "        text-align: right;\n",
       "    }\n",
       "</style>\n",
       "<table border=\"1\" class=\"dataframe\">\n",
       "  <thead>\n",
       "    <tr style=\"text-align: right;\">\n",
       "      <th></th>\n",
       "      <th>0</th>\n",
       "    </tr>\n",
       "  </thead>\n",
       "  <tbody>\n",
       "    <tr>\n",
       "      <th>0</th>\n",
       "      <td>3 PM  Mon 24th-Mar-2014___0.384 kwh</td>\n",
       "    </tr>\n",
       "    <tr>\n",
       "      <th>1</th>\n",
       "      <td>5AM  15-Aug-2014___1.201  kwh</td>\n",
       "    </tr>\n",
       "    <tr>\n",
       "      <th>2</th>\n",
       "      <td>__8PM Thu 20-Mar-2014____1.523 kwh</td>\n",
       "    </tr>\n",
       "  </tbody>\n",
       "</table>\n",
       "</div>"
      ],
      "text/plain": [
       "                                        0\n",
       "0   3 PM  Mon 24th-Mar-2014___0.384 kwh  \n",
       "1          5AM  15-Aug-2014___1.201  kwh \n",
       "2    __8PM Thu 20-Mar-2014____1.523 kwh  "
      ]
     },
     "execution_count": 222,
     "metadata": {},
     "output_type": "execute_result"
    }
   ],
   "source": [
    "df.head(3)"
   ]
  },
  {
   "cell_type": "code",
   "execution_count": 224,
   "id": "1ae8db2d-98b5-42e9-bc4b-50d0981580e6",
   "metadata": {},
   "outputs": [
    {
     "data": {
      "text/html": [
       "<div>\n",
       "<style scoped>\n",
       "    .dataframe tbody tr th:only-of-type {\n",
       "        vertical-align: middle;\n",
       "    }\n",
       "\n",
       "    .dataframe tbody tr th {\n",
       "        vertical-align: top;\n",
       "    }\n",
       "\n",
       "    .dataframe thead th {\n",
       "        text-align: right;\n",
       "    }\n",
       "</style>\n",
       "<table border=\"1\" class=\"dataframe\">\n",
       "  <thead>\n",
       "    <tr style=\"text-align: right;\">\n",
       "      <th></th>\n",
       "      <th>0</th>\n",
       "    </tr>\n",
       "  </thead>\n",
       "  <tbody>\n",
       "    <tr>\n",
       "      <th>8755</th>\n",
       "      <td>_1AM  Fri 07th-Nov-2014_0.084 kwh</td>\n",
       "    </tr>\n",
       "    <tr>\n",
       "      <th>8756</th>\n",
       "      <td>_6AM 20-May-2014__1.027 kwh</td>\n",
       "    </tr>\n",
       "    <tr>\n",
       "      <th>8757</th>\n",
       "      <td>__2 AM  Tuesday 8th-Apr-2014___0.052 kwh</td>\n",
       "    </tr>\n",
       "    <tr>\n",
       "      <th>8758</th>\n",
       "      <td>9 PM 27th-Jan-2014_1.428  kwh</td>\n",
       "    </tr>\n",
       "    <tr>\n",
       "      <th>8759</th>\n",
       "      <td>_12 PM 25th-Aug-2014_0.528  kwh</td>\n",
       "    </tr>\n",
       "  </tbody>\n",
       "</table>\n",
       "</div>"
      ],
      "text/plain": [
       "                                              0\n",
       "8755         _1AM  Fri 07th-Nov-2014_0.084 kwh \n",
       "8756                _6AM 20-May-2014__1.027 kwh\n",
       "8757   __2 AM  Tuesday 8th-Apr-2014___0.052 kwh\n",
       "8758            9 PM 27th-Jan-2014_1.428  kwh  \n",
       "8759          _12 PM 25th-Aug-2014_0.528  kwh  "
      ]
     },
     "execution_count": 224,
     "metadata": {},
     "output_type": "execute_result"
    }
   ],
   "source": [
    "df.tail()"
   ]
  },
  {
   "cell_type": "code",
   "execution_count": 226,
   "id": "a80d445a-8597-4295-b5ea-4b7553d4d172",
   "metadata": {},
   "outputs": [
    {
     "data": {
      "text/html": [
       "<div>\n",
       "<style scoped>\n",
       "    .dataframe tbody tr th:only-of-type {\n",
       "        vertical-align: middle;\n",
       "    }\n",
       "\n",
       "    .dataframe tbody tr th {\n",
       "        vertical-align: top;\n",
       "    }\n",
       "\n",
       "    .dataframe thead th {\n",
       "        text-align: right;\n",
       "    }\n",
       "</style>\n",
       "<table border=\"1\" class=\"dataframe\">\n",
       "  <thead>\n",
       "    <tr style=\"text-align: right;\">\n",
       "      <th></th>\n",
       "      <th>0</th>\n",
       "    </tr>\n",
       "  </thead>\n",
       "  <tbody>\n",
       "    <tr>\n",
       "      <th>count</th>\n",
       "      <td>8760</td>\n",
       "    </tr>\n",
       "    <tr>\n",
       "      <th>unique</th>\n",
       "      <td>8754</td>\n",
       "    </tr>\n",
       "    <tr>\n",
       "      <th>top</th>\n",
       "      <td>__8PM Thu 20-Mar-2014____1.523 kwh</td>\n",
       "    </tr>\n",
       "    <tr>\n",
       "      <th>freq</th>\n",
       "      <td>2</td>\n",
       "    </tr>\n",
       "  </tbody>\n",
       "</table>\n",
       "</div>"
      ],
      "text/plain": [
       "                                           0\n",
       "count                                   8760\n",
       "unique                                  8754\n",
       "top     __8PM Thu 20-Mar-2014____1.523 kwh  \n",
       "freq                                       2"
      ]
     },
     "execution_count": 226,
     "metadata": {},
     "output_type": "execute_result"
    }
   ],
   "source": [
    "df.describe()"
   ]
  },
  {
   "cell_type": "code",
   "execution_count": 228,
   "id": "8688a1ec-5993-4c95-ae5a-c6052c65a5d1",
   "metadata": {},
   "outputs": [
    {
     "name": "stdout",
     "output_type": "stream",
     "text": [
      "<class 'pandas.core.frame.DataFrame'>\n",
      "RangeIndex: 8760 entries, 0 to 8759\n",
      "Data columns (total 1 columns):\n",
      " #   Column  Non-Null Count  Dtype \n",
      "---  ------  --------------  ----- \n",
      " 0   0       8760 non-null   object\n",
      "dtypes: object(1)\n",
      "memory usage: 68.6+ KB\n"
     ]
    }
   ],
   "source": [
    "df.info()"
   ]
  },
  {
   "cell_type": "code",
   "execution_count": 230,
   "id": "1ab9b93e-bc59-47bc-8075-8d48bd0f5501",
   "metadata": {},
   "outputs": [
    {
     "data": {
      "text/plain": [
       "7700             11 PM Thu 07-Aug-2014__0.69 kwh \n",
       "7701           _11AM   23-Nov-2014___0.305  kwh  \n",
       "7702             _3 AM   30th-Mar-2014_0.242 kwh \n",
       "7703            9PM   Wed 31-Dec-2014___0.766kwh \n",
       "7704         __5AM  Sat 7th-Jun-2014____0.578kwh \n",
       "7705      _4PM  Friday 18-Apr-2014___0.102  kwh  \n",
       "7706       __11 AM Friday 3rd-Oct-2014_0.273 kwh \n",
       "7707                 __3AM 28-Feb-2014___0.23kwh \n",
       "7708          __10AM  Fri 31-Oct-2014__0.202  kwh\n",
       "7709            5AM Sat 8th-Mar-2014_0.235  kwh  \n",
       "7710           _12 AM   23rd-Nov-2014__0.324 kwh \n",
       "7711        10 AM  Wed 22nd-Oct-2014____0.209kwh \n",
       "7712             __12AM  6-May-2014___0.233  kwh \n",
       "7713              __2 PM  6-Feb-2014__0.475  kwh \n",
       "7714           __6 PM  19th-Aug-2014____1.966 kwh\n",
       "7715          __10 PM  Fri 3rd-Oct-2014__0.496kwh\n",
       "7716       _8 AM   Fri 19-Dec-2014____0.444  kwh \n",
       "7717       __8PM   Thursday 25-Sep-2014__0.907kwh\n",
       "7718      _8PM  Monday 3rd-Mar-2014___1.037 kwh  \n",
       "7719             _5AM   22-Mar-2014____0.192 kwh \n",
       "7720      __10AM   Fri 13th-Jun-2014___0.619 kwh \n",
       "7721        _2AM   Wed 6th-Aug-2014___0.211  kwh \n",
       "7722              7 AM  14-Apr-2014____0.257 kwh \n",
       "7723                 10AM   15-Sep-2014_0.33  kwh\n",
       "7724        10PM  Thu 13th-Feb-2014___0.51  kwh  \n",
       "7725             11AM Thu 31-Jul-2014__0.972  kwh\n",
       "7726     _2 PM Monday 20th-Jan-2014____0.808  kwh\n",
       "7727         _11PM   Sunday 12-Jan-2014_0.91 kwh \n",
       "7728      __7 AM  Thursday 18-Sep-2014_0.561  kwh\n",
       "7729             8AM Thu 20th-Mar-2014__0.291 kwh\n",
       "7730      __10 PM  Wed 09th-Jul-2014___0.984  kwh\n",
       "7731        __7AM Saturday 1st-Feb-2014_1.368kwh \n",
       "7732              _6PM  31-May-2014___1.152 kwh  \n",
       "7733                _6 AM 22nd-Feb-2014_1.085 kwh\n",
       "7734      __11 PM   Tue 3rd-Jun-2014____0.738 kwh\n",
       "7735       __9 PM   Friday 10-Oct-2014__0.211kwh \n",
       "7736            6 AM  Fri 19-Dec-2014_1.056 kwh  \n",
       "7737                 6AM  3rd-Jul-2014_3.283kwh  \n",
       "7738              __11PM   10-Apr-2014_0.128  kwh\n",
       "7739             3 AM Wed 12-Feb-2014___0.276kwh \n",
       "7740               __11 PM   11-Feb-2014_0.516kwh\n",
       "7741              __6 PM  29th-Sep-2014___0.99kwh\n",
       "7742            7AM   Fri 28-Mar-2014__0.619  kwh\n",
       "7743           __9AM  Fri 24-Jan-2014____0.606kwh\n",
       "7744             __9PM 27-Aug-2014___0.864  kwh  \n",
       "7745                  __6PM 28-Feb-2014_1.882kwh \n",
       "7746            __11AM 28th-Nov-2014__0.257 kwh  \n",
       "7747                 7AM  12-Dec-2014__1.099  kwh\n",
       "7748       11 PM   Friday 11th-Jul-2014_2.472kwh \n",
       "7749             __8PM Thu 09th-Jan-2014_3.36 kwh\n",
       "Name: 0, dtype: object"
      ]
     },
     "execution_count": 230,
     "metadata": {},
     "output_type": "execute_result"
    }
   ],
   "source": [
    "df[0].iloc[7700:7750]"
   ]
  },
  {
   "cell_type": "code",
   "execution_count": 232,
   "id": "b759f78a-0546-4e09-8e39-e8fd079576ce",
   "metadata": {},
   "outputs": [],
   "source": [
    "df[0] = df[0].str.replace(\n",
    "    r'(sunday|monday|tuesday|wednesday|thursday|friday|saturday|Sunday|Monday|Tuesday|Wednesday|Thursday|Friday|Saturday|ne|uay|sday|day|sun|mon|tue|wed|thu|fri|sat|Sun|Mon|Tue|Wed|Thu|Fri|Sat|st|nd|rd|th|_|__|___|  | )', \n",
    "    '', \n",
    "    \n",
    "    regex=True\n",
    ")"
   ]
  },
  {
   "cell_type": "code",
   "execution_count": 234,
   "id": "b341c7e1-514c-4f02-a1eb-ce41c53e5922",
   "metadata": {},
   "outputs": [
    {
     "data": {
      "text/html": [
       "<div>\n",
       "<style scoped>\n",
       "    .dataframe tbody tr th:only-of-type {\n",
       "        vertical-align: middle;\n",
       "    }\n",
       "\n",
       "    .dataframe tbody tr th {\n",
       "        vertical-align: top;\n",
       "    }\n",
       "\n",
       "    .dataframe thead th {\n",
       "        text-align: right;\n",
       "    }\n",
       "</style>\n",
       "<table border=\"1\" class=\"dataframe\">\n",
       "  <thead>\n",
       "    <tr style=\"text-align: right;\">\n",
       "      <th></th>\n",
       "      <th>0</th>\n",
       "    </tr>\n",
       "  </thead>\n",
       "  <tbody>\n",
       "    <tr>\n",
       "      <th>0</th>\n",
       "      <td>3PM24-Mar-20140.384kwh</td>\n",
       "    </tr>\n",
       "    <tr>\n",
       "      <th>1</th>\n",
       "      <td>5AM15-Aug-20141.201kwh</td>\n",
       "    </tr>\n",
       "    <tr>\n",
       "      <th>2</th>\n",
       "      <td>8PM20-Mar-20141.523kwh</td>\n",
       "    </tr>\n",
       "    <tr>\n",
       "      <th>3</th>\n",
       "      <td>6PM23-Apr-20140.424kwh</td>\n",
       "    </tr>\n",
       "    <tr>\n",
       "      <th>4</th>\n",
       "      <td>1AM19-Dec-20140.209kwh</td>\n",
       "    </tr>\n",
       "  </tbody>\n",
       "</table>\n",
       "</div>"
      ],
      "text/plain": [
       "                        0\n",
       "0  3PM24-Mar-20140.384kwh\n",
       "1  5AM15-Aug-20141.201kwh\n",
       "2  8PM20-Mar-20141.523kwh\n",
       "3  6PM23-Apr-20140.424kwh\n",
       "4  1AM19-Dec-20140.209kwh"
      ]
     },
     "execution_count": 234,
     "metadata": {},
     "output_type": "execute_result"
    }
   ],
   "source": [
    "df.head()"
   ]
  },
  {
   "cell_type": "code",
   "execution_count": 236,
   "id": "a8901dd9-51d8-47c9-80c6-19d02133f56f",
   "metadata": {},
   "outputs": [],
   "source": [
    "pattern = r'(\\d+(?:AM|PM))(\\d{1,2}-\\w{3}-\\d{4})(\\d+\\.\\d+)kwh'\n",
    "\n",
    "#(\\d+(?:AM|PM))         # Group 1: time like 1PM, 12AM\n",
    "#(\\d{1,2}-\\w{3}-\\d{4})   # Group 2: date like 5-Apr-2025\n",
    "#(\\d+\\.\\d+)kwh           # Group 3: number like 1.23 followed by 'kwh'"
   ]
  },
  {
   "cell_type": "code",
   "execution_count": 238,
   "id": "2aa92779-5551-4347-ac50-49d678d3b7e4",
   "metadata": {},
   "outputs": [],
   "source": [
    "def info(row):\n",
    "    match = re.search(pattern, row)\n",
    "    if match:\n",
    "        return match.group(1), match.group(2), match.group(3),\n",
    "    else:\n",
    "        return None, None, None,\n",
    "\n",
    "#match.group(1) → time\n",
    "#match.group(2) → date\n",
    "#match.group(3) → energy usage"
   ]
  },
  {
   "cell_type": "code",
   "execution_count": 240,
   "id": "72cf10f3-b07f-4523-8246-65139abe1af0",
   "metadata": {},
   "outputs": [
    {
     "data": {
      "text/html": [
       "<div>\n",
       "<style scoped>\n",
       "    .dataframe tbody tr th:only-of-type {\n",
       "        vertical-align: middle;\n",
       "    }\n",
       "\n",
       "    .dataframe tbody tr th {\n",
       "        vertical-align: top;\n",
       "    }\n",
       "\n",
       "    .dataframe thead th {\n",
       "        text-align: right;\n",
       "    }\n",
       "</style>\n",
       "<table border=\"1\" class=\"dataframe\">\n",
       "  <thead>\n",
       "    <tr style=\"text-align: right;\">\n",
       "      <th></th>\n",
       "      <th>0</th>\n",
       "      <th>Time</th>\n",
       "      <th>Date</th>\n",
       "      <th>kWh</th>\n",
       "    </tr>\n",
       "  </thead>\n",
       "  <tbody>\n",
       "    <tr>\n",
       "      <th>0</th>\n",
       "      <td>3PM24-Mar-20140.384kwh</td>\n",
       "      <td>3PM</td>\n",
       "      <td>24-Mar-2014</td>\n",
       "      <td>0.384</td>\n",
       "    </tr>\n",
       "    <tr>\n",
       "      <th>1</th>\n",
       "      <td>5AM15-Aug-20141.201kwh</td>\n",
       "      <td>5AM</td>\n",
       "      <td>15-Aug-2014</td>\n",
       "      <td>1.201</td>\n",
       "    </tr>\n",
       "    <tr>\n",
       "      <th>2</th>\n",
       "      <td>8PM20-Mar-20141.523kwh</td>\n",
       "      <td>8PM</td>\n",
       "      <td>20-Mar-2014</td>\n",
       "      <td>1.523</td>\n",
       "    </tr>\n",
       "    <tr>\n",
       "      <th>3</th>\n",
       "      <td>6PM23-Apr-20140.424kwh</td>\n",
       "      <td>6PM</td>\n",
       "      <td>23-Apr-2014</td>\n",
       "      <td>0.424</td>\n",
       "    </tr>\n",
       "    <tr>\n",
       "      <th>4</th>\n",
       "      <td>1AM19-Dec-20140.209kwh</td>\n",
       "      <td>1AM</td>\n",
       "      <td>19-Dec-2014</td>\n",
       "      <td>0.209</td>\n",
       "    </tr>\n",
       "  </tbody>\n",
       "</table>\n",
       "</div>"
      ],
      "text/plain": [
       "                        0 Time         Date    kWh\n",
       "0  3PM24-Mar-20140.384kwh  3PM  24-Mar-2014  0.384\n",
       "1  5AM15-Aug-20141.201kwh  5AM  15-Aug-2014  1.201\n",
       "2  8PM20-Mar-20141.523kwh  8PM  20-Mar-2014  1.523\n",
       "3  6PM23-Apr-20140.424kwh  6PM  23-Apr-2014  0.424\n",
       "4  1AM19-Dec-20140.209kwh  1AM  19-Dec-2014  0.209"
      ]
     },
     "execution_count": 240,
     "metadata": {},
     "output_type": "execute_result"
    }
   ],
   "source": [
    "df[['Time','Date', 'kWh']] = df[0].apply(info).apply(pd.Series)\n",
    "df.head()"
   ]
  },
  {
   "cell_type": "code",
   "execution_count": 241,
   "id": "f5629960-a9c4-427d-b68d-9a6bc8f0cfee",
   "metadata": {},
   "outputs": [
    {
     "data": {
      "text/html": [
       "<div>\n",
       "<style scoped>\n",
       "    .dataframe tbody tr th:only-of-type {\n",
       "        vertical-align: middle;\n",
       "    }\n",
       "\n",
       "    .dataframe tbody tr th {\n",
       "        vertical-align: top;\n",
       "    }\n",
       "\n",
       "    .dataframe thead th {\n",
       "        text-align: right;\n",
       "    }\n",
       "</style>\n",
       "<table border=\"1\" class=\"dataframe\">\n",
       "  <thead>\n",
       "    <tr style=\"text-align: right;\">\n",
       "      <th></th>\n",
       "      <th>0</th>\n",
       "      <th>Time</th>\n",
       "      <th>Date</th>\n",
       "      <th>kWh</th>\n",
       "      <th>Hour</th>\n",
       "      <th>AM/PM</th>\n",
       "    </tr>\n",
       "  </thead>\n",
       "  <tbody>\n",
       "    <tr>\n",
       "      <th>0</th>\n",
       "      <td>3PM24-Mar-20140.384kwh</td>\n",
       "      <td>3PM</td>\n",
       "      <td>24-Mar-2014</td>\n",
       "      <td>0.384</td>\n",
       "      <td>3</td>\n",
       "      <td>PM</td>\n",
       "    </tr>\n",
       "    <tr>\n",
       "      <th>1</th>\n",
       "      <td>5AM15-Aug-20141.201kwh</td>\n",
       "      <td>5AM</td>\n",
       "      <td>15-Aug-2014</td>\n",
       "      <td>1.201</td>\n",
       "      <td>5</td>\n",
       "      <td>AM</td>\n",
       "    </tr>\n",
       "    <tr>\n",
       "      <th>2</th>\n",
       "      <td>8PM20-Mar-20141.523kwh</td>\n",
       "      <td>8PM</td>\n",
       "      <td>20-Mar-2014</td>\n",
       "      <td>1.523</td>\n",
       "      <td>8</td>\n",
       "      <td>PM</td>\n",
       "    </tr>\n",
       "    <tr>\n",
       "      <th>3</th>\n",
       "      <td>6PM23-Apr-20140.424kwh</td>\n",
       "      <td>6PM</td>\n",
       "      <td>23-Apr-2014</td>\n",
       "      <td>0.424</td>\n",
       "      <td>6</td>\n",
       "      <td>PM</td>\n",
       "    </tr>\n",
       "    <tr>\n",
       "      <th>4</th>\n",
       "      <td>1AM19-Dec-20140.209kwh</td>\n",
       "      <td>1AM</td>\n",
       "      <td>19-Dec-2014</td>\n",
       "      <td>0.209</td>\n",
       "      <td>1</td>\n",
       "      <td>AM</td>\n",
       "    </tr>\n",
       "  </tbody>\n",
       "</table>\n",
       "</div>"
      ],
      "text/plain": [
       "                        0 Time         Date    kWh Hour AM/PM\n",
       "0  3PM24-Mar-20140.384kwh  3PM  24-Mar-2014  0.384    3    PM\n",
       "1  5AM15-Aug-20141.201kwh  5AM  15-Aug-2014  1.201    5    AM\n",
       "2  8PM20-Mar-20141.523kwh  8PM  20-Mar-2014  1.523    8    PM\n",
       "3  6PM23-Apr-20140.424kwh  6PM  23-Apr-2014  0.424    6    PM\n",
       "4  1AM19-Dec-20140.209kwh  1AM  19-Dec-2014  0.209    1    AM"
      ]
     },
     "execution_count": 241,
     "metadata": {},
     "output_type": "execute_result"
    }
   ],
   "source": [
    "df[['Hour', 'AM/PM']] = df['Time'].str.extract(r'(\\d+)\\s*(AM|PM)', expand=True)\n",
    "df.head()"
   ]
  },
  {
   "cell_type": "code",
   "execution_count": 244,
   "id": "f0f01f60-a291-447c-bb16-5ab75bf75b23",
   "metadata": {},
   "outputs": [
    {
     "data": {
      "text/html": [
       "<div>\n",
       "<style scoped>\n",
       "    .dataframe tbody tr th:only-of-type {\n",
       "        vertical-align: middle;\n",
       "    }\n",
       "\n",
       "    .dataframe tbody tr th {\n",
       "        vertical-align: top;\n",
       "    }\n",
       "\n",
       "    .dataframe thead th {\n",
       "        text-align: right;\n",
       "    }\n",
       "</style>\n",
       "<table border=\"1\" class=\"dataframe\">\n",
       "  <thead>\n",
       "    <tr style=\"text-align: right;\">\n",
       "      <th></th>\n",
       "      <th>0</th>\n",
       "      <th>Time</th>\n",
       "      <th>Date</th>\n",
       "      <th>kWh</th>\n",
       "      <th>Hour</th>\n",
       "      <th>AM/PM</th>\n",
       "      <th>Day</th>\n",
       "      <th>Month</th>\n",
       "      <th>Year</th>\n",
       "    </tr>\n",
       "  </thead>\n",
       "  <tbody>\n",
       "    <tr>\n",
       "      <th>0</th>\n",
       "      <td>3PM24-Mar-20140.384kwh</td>\n",
       "      <td>3PM</td>\n",
       "      <td>24-Mar-2014</td>\n",
       "      <td>0.384</td>\n",
       "      <td>3</td>\n",
       "      <td>PM</td>\n",
       "      <td>24</td>\n",
       "      <td>Mar</td>\n",
       "      <td>2014</td>\n",
       "    </tr>\n",
       "    <tr>\n",
       "      <th>1</th>\n",
       "      <td>5AM15-Aug-20141.201kwh</td>\n",
       "      <td>5AM</td>\n",
       "      <td>15-Aug-2014</td>\n",
       "      <td>1.201</td>\n",
       "      <td>5</td>\n",
       "      <td>AM</td>\n",
       "      <td>15</td>\n",
       "      <td>Aug</td>\n",
       "      <td>2014</td>\n",
       "    </tr>\n",
       "    <tr>\n",
       "      <th>2</th>\n",
       "      <td>8PM20-Mar-20141.523kwh</td>\n",
       "      <td>8PM</td>\n",
       "      <td>20-Mar-2014</td>\n",
       "      <td>1.523</td>\n",
       "      <td>8</td>\n",
       "      <td>PM</td>\n",
       "      <td>20</td>\n",
       "      <td>Mar</td>\n",
       "      <td>2014</td>\n",
       "    </tr>\n",
       "    <tr>\n",
       "      <th>3</th>\n",
       "      <td>6PM23-Apr-20140.424kwh</td>\n",
       "      <td>6PM</td>\n",
       "      <td>23-Apr-2014</td>\n",
       "      <td>0.424</td>\n",
       "      <td>6</td>\n",
       "      <td>PM</td>\n",
       "      <td>23</td>\n",
       "      <td>Apr</td>\n",
       "      <td>2014</td>\n",
       "    </tr>\n",
       "    <tr>\n",
       "      <th>4</th>\n",
       "      <td>1AM19-Dec-20140.209kwh</td>\n",
       "      <td>1AM</td>\n",
       "      <td>19-Dec-2014</td>\n",
       "      <td>0.209</td>\n",
       "      <td>1</td>\n",
       "      <td>AM</td>\n",
       "      <td>19</td>\n",
       "      <td>Dec</td>\n",
       "      <td>2014</td>\n",
       "    </tr>\n",
       "  </tbody>\n",
       "</table>\n",
       "</div>"
      ],
      "text/plain": [
       "                        0 Time         Date    kWh Hour AM/PM Day Month  Year\n",
       "0  3PM24-Mar-20140.384kwh  3PM  24-Mar-2014  0.384    3    PM  24   Mar  2014\n",
       "1  5AM15-Aug-20141.201kwh  5AM  15-Aug-2014  1.201    5    AM  15   Aug  2014\n",
       "2  8PM20-Mar-20141.523kwh  8PM  20-Mar-2014  1.523    8    PM  20   Mar  2014\n",
       "3  6PM23-Apr-20140.424kwh  6PM  23-Apr-2014  0.424    6    PM  23   Apr  2014\n",
       "4  1AM19-Dec-20140.209kwh  1AM  19-Dec-2014  0.209    1    AM  19   Dec  2014"
      ]
     },
     "execution_count": 244,
     "metadata": {},
     "output_type": "execute_result"
    }
   ],
   "source": [
    "df[['Day', 'Month','Year']] = df['Date'].str.extract(r'(\\d+)-(\\w+)-(\\d+)', expand=True)\n",
    "df.head()"
   ]
  },
  {
   "cell_type": "code",
   "execution_count": 246,
   "id": "74072578-2ebf-4999-b604-a27a6b14c8ae",
   "metadata": {},
   "outputs": [
    {
     "name": "stdout",
     "output_type": "stream",
     "text": [
      "<class 'pandas.core.frame.DataFrame'>\n",
      "RangeIndex: 8760 entries, 0 to 8759\n",
      "Data columns (total 9 columns):\n",
      " #   Column  Non-Null Count  Dtype \n",
      "---  ------  --------------  ----- \n",
      " 0   0       8760 non-null   object\n",
      " 1   Time    8760 non-null   object\n",
      " 2   Date    8760 non-null   object\n",
      " 3   kWh     8760 non-null   object\n",
      " 4   Hour    8760 non-null   object\n",
      " 5   AM/PM   8760 non-null   object\n",
      " 6   Day     8760 non-null   object\n",
      " 7   Month   8760 non-null   object\n",
      " 8   Year    8760 non-null   object\n",
      "dtypes: object(9)\n",
      "memory usage: 616.1+ KB\n"
     ]
    }
   ],
   "source": [
    "df.info()    #need string dtypes convert to float type"
   ]
  },
  {
   "cell_type": "code",
   "execution_count": 248,
   "id": "318d0f9e-9fd2-418d-87ea-4db21d2ff55c",
   "metadata": {},
   "outputs": [
    {
     "data": {
      "text/html": [
       "<div>\n",
       "<style scoped>\n",
       "    .dataframe tbody tr th:only-of-type {\n",
       "        vertical-align: middle;\n",
       "    }\n",
       "\n",
       "    .dataframe tbody tr th {\n",
       "        vertical-align: top;\n",
       "    }\n",
       "\n",
       "    .dataframe thead th {\n",
       "        text-align: right;\n",
       "    }\n",
       "</style>\n",
       "<table border=\"1\" class=\"dataframe\">\n",
       "  <thead>\n",
       "    <tr style=\"text-align: right;\">\n",
       "      <th></th>\n",
       "      <th>Time</th>\n",
       "      <th>Date</th>\n",
       "      <th>kWh</th>\n",
       "      <th>Hour</th>\n",
       "      <th>AM/PM</th>\n",
       "      <th>Day</th>\n",
       "      <th>Month</th>\n",
       "      <th>Year</th>\n",
       "    </tr>\n",
       "  </thead>\n",
       "  <tbody>\n",
       "    <tr>\n",
       "      <th>0</th>\n",
       "      <td>3PM</td>\n",
       "      <td>24-Mar-2014</td>\n",
       "      <td>0.384</td>\n",
       "      <td>3</td>\n",
       "      <td>PM</td>\n",
       "      <td>24</td>\n",
       "      <td>Mar</td>\n",
       "      <td>2014</td>\n",
       "    </tr>\n",
       "    <tr>\n",
       "      <th>1</th>\n",
       "      <td>5AM</td>\n",
       "      <td>15-Aug-2014</td>\n",
       "      <td>1.201</td>\n",
       "      <td>5</td>\n",
       "      <td>AM</td>\n",
       "      <td>15</td>\n",
       "      <td>Aug</td>\n",
       "      <td>2014</td>\n",
       "    </tr>\n",
       "    <tr>\n",
       "      <th>2</th>\n",
       "      <td>8PM</td>\n",
       "      <td>20-Mar-2014</td>\n",
       "      <td>1.523</td>\n",
       "      <td>8</td>\n",
       "      <td>PM</td>\n",
       "      <td>20</td>\n",
       "      <td>Mar</td>\n",
       "      <td>2014</td>\n",
       "    </tr>\n",
       "    <tr>\n",
       "      <th>3</th>\n",
       "      <td>6PM</td>\n",
       "      <td>23-Apr-2014</td>\n",
       "      <td>0.424</td>\n",
       "      <td>6</td>\n",
       "      <td>PM</td>\n",
       "      <td>23</td>\n",
       "      <td>Apr</td>\n",
       "      <td>2014</td>\n",
       "    </tr>\n",
       "    <tr>\n",
       "      <th>4</th>\n",
       "      <td>1AM</td>\n",
       "      <td>19-Dec-2014</td>\n",
       "      <td>0.209</td>\n",
       "      <td>1</td>\n",
       "      <td>AM</td>\n",
       "      <td>19</td>\n",
       "      <td>Dec</td>\n",
       "      <td>2014</td>\n",
       "    </tr>\n",
       "  </tbody>\n",
       "</table>\n",
       "</div>"
      ],
      "text/plain": [
       "  Time         Date    kWh Hour AM/PM Day Month  Year\n",
       "0  3PM  24-Mar-2014  0.384    3    PM  24   Mar  2014\n",
       "1  5AM  15-Aug-2014  1.201    5    AM  15   Aug  2014\n",
       "2  8PM  20-Mar-2014  1.523    8    PM  20   Mar  2014\n",
       "3  6PM  23-Apr-2014  0.424    6    PM  23   Apr  2014\n",
       "4  1AM  19-Dec-2014  0.209    1    AM  19   Dec  2014"
      ]
     },
     "execution_count": 248,
     "metadata": {},
     "output_type": "execute_result"
    }
   ],
   "source": [
    "df = df.drop([0],axis = 1)\n",
    "df.head()"
   ]
  },
  {
   "cell_type": "code",
   "execution_count": 250,
   "id": "c5ed51e3-35ff-42c9-a96b-e24bac0539f1",
   "metadata": {},
   "outputs": [
    {
     "name": "stdout",
     "output_type": "stream",
     "text": [
      "<class 'pandas.core.frame.DataFrame'>\n",
      "RangeIndex: 8760 entries, 0 to 8759\n",
      "Data columns (total 8 columns):\n",
      " #   Column  Non-Null Count  Dtype         \n",
      "---  ------  --------------  -----         \n",
      " 0   Time    8760 non-null   object        \n",
      " 1   Date    8760 non-null   datetime64[ns]\n",
      " 2   kWh     8760 non-null   float64       \n",
      " 3   Hour    8760 non-null   float64       \n",
      " 4   AM/PM   8760 non-null   object        \n",
      " 5   Day     8760 non-null   float64       \n",
      " 6   Month   8760 non-null   object        \n",
      " 7   Year    8760 non-null   float64       \n",
      "dtypes: datetime64[ns](1), float64(4), object(3)\n",
      "memory usage: 547.6+ KB\n"
     ]
    }
   ],
   "source": [
    "df['Date'] = pd.to_datetime(df['Date'], format='%d-%b-%Y')\n",
    "df['kWh']=df['kWh'].astype(np.float64)\n",
    "df['Day']=df['Day'].astype(np.float64)\n",
    "df['Year']=df['Year'].astype(np.float64)\n",
    "df['Hour']=df['Hour'].astype(np.float64)\n",
    "df.info()"
   ]
  },
  {
   "cell_type": "code",
   "execution_count": 252,
   "id": "e21e8ba4-49bd-4d29-a57f-0121e3132b1b",
   "metadata": {},
   "outputs": [
    {
     "data": {
      "text/plain": [
       "Time     0\n",
       "Date     0\n",
       "kWh      0\n",
       "Hour     0\n",
       "AM/PM    0\n",
       "Day      0\n",
       "Month    0\n",
       "Year     0\n",
       "dtype: int64"
      ]
     },
     "execution_count": 252,
     "metadata": {},
     "output_type": "execute_result"
    }
   ],
   "source": [
    "df.isna().sum()"
   ]
  },
  {
   "cell_type": "code",
   "execution_count": 254,
   "id": "2af18800-60ff-467d-9706-b513edd1a111",
   "metadata": {},
   "outputs": [
    {
     "data": {
      "text/html": [
       "<div>\n",
       "<style scoped>\n",
       "    .dataframe tbody tr th:only-of-type {\n",
       "        vertical-align: middle;\n",
       "    }\n",
       "\n",
       "    .dataframe tbody tr th {\n",
       "        vertical-align: top;\n",
       "    }\n",
       "\n",
       "    .dataframe thead th {\n",
       "        text-align: right;\n",
       "    }\n",
       "</style>\n",
       "<table border=\"1\" class=\"dataframe\">\n",
       "  <thead>\n",
       "    <tr style=\"text-align: right;\">\n",
       "      <th></th>\n",
       "      <th>Time</th>\n",
       "      <th>Date</th>\n",
       "      <th>kWh</th>\n",
       "      <th>Hour</th>\n",
       "      <th>AM/PM</th>\n",
       "      <th>Day</th>\n",
       "      <th>Month</th>\n",
       "      <th>Year</th>\n",
       "    </tr>\n",
       "  </thead>\n",
       "  <tbody>\n",
       "    <tr>\n",
       "      <th>0</th>\n",
       "      <td>3PM</td>\n",
       "      <td>2014-03-24</td>\n",
       "      <td>0.384</td>\n",
       "      <td>3.0</td>\n",
       "      <td>PM</td>\n",
       "      <td>24.0</td>\n",
       "      <td>Mar</td>\n",
       "      <td>2014.0</td>\n",
       "    </tr>\n",
       "    <tr>\n",
       "      <th>1</th>\n",
       "      <td>5AM</td>\n",
       "      <td>2014-08-15</td>\n",
       "      <td>1.201</td>\n",
       "      <td>5.0</td>\n",
       "      <td>AM</td>\n",
       "      <td>15.0</td>\n",
       "      <td>Aug</td>\n",
       "      <td>2014.0</td>\n",
       "    </tr>\n",
       "    <tr>\n",
       "      <th>2</th>\n",
       "      <td>8PM</td>\n",
       "      <td>2014-03-20</td>\n",
       "      <td>1.523</td>\n",
       "      <td>8.0</td>\n",
       "      <td>PM</td>\n",
       "      <td>20.0</td>\n",
       "      <td>Mar</td>\n",
       "      <td>2014.0</td>\n",
       "    </tr>\n",
       "    <tr>\n",
       "      <th>3</th>\n",
       "      <td>6PM</td>\n",
       "      <td>2014-04-23</td>\n",
       "      <td>0.424</td>\n",
       "      <td>6.0</td>\n",
       "      <td>PM</td>\n",
       "      <td>23.0</td>\n",
       "      <td>Apr</td>\n",
       "      <td>2014.0</td>\n",
       "    </tr>\n",
       "    <tr>\n",
       "      <th>4</th>\n",
       "      <td>1AM</td>\n",
       "      <td>2014-12-19</td>\n",
       "      <td>0.209</td>\n",
       "      <td>1.0</td>\n",
       "      <td>AM</td>\n",
       "      <td>19.0</td>\n",
       "      <td>Dec</td>\n",
       "      <td>2014.0</td>\n",
       "    </tr>\n",
       "  </tbody>\n",
       "</table>\n",
       "</div>"
      ],
      "text/plain": [
       "  Time       Date    kWh  Hour AM/PM   Day Month    Year\n",
       "0  3PM 2014-03-24  0.384   3.0    PM  24.0   Mar  2014.0\n",
       "1  5AM 2014-08-15  1.201   5.0    AM  15.0   Aug  2014.0\n",
       "2  8PM 2014-03-20  1.523   8.0    PM  20.0   Mar  2014.0\n",
       "3  6PM 2014-04-23  0.424   6.0    PM  23.0   Apr  2014.0\n",
       "4  1AM 2014-12-19  0.209   1.0    AM  19.0   Dec  2014.0"
      ]
     },
     "execution_count": 254,
     "metadata": {},
     "output_type": "execute_result"
    }
   ],
   "source": [
    "df.head()"
   ]
  },
  {
   "cell_type": "code",
   "execution_count": 256,
   "id": "a4633c78-4755-4894-89ec-6ae786e0e51a",
   "metadata": {
    "scrolled": true
   },
   "outputs": [
    {
     "data": {
      "text/html": [
       "<div>\n",
       "<style scoped>\n",
       "    .dataframe tbody tr th:only-of-type {\n",
       "        vertical-align: middle;\n",
       "    }\n",
       "\n",
       "    .dataframe tbody tr th {\n",
       "        vertical-align: top;\n",
       "    }\n",
       "\n",
       "    .dataframe thead th {\n",
       "        text-align: right;\n",
       "    }\n",
       "</style>\n",
       "<table border=\"1\" class=\"dataframe\">\n",
       "  <thead>\n",
       "    <tr style=\"text-align: right;\">\n",
       "      <th></th>\n",
       "      <th>Time</th>\n",
       "      <th>Date</th>\n",
       "      <th>kWh</th>\n",
       "      <th>Hour</th>\n",
       "      <th>AM/PM</th>\n",
       "      <th>Day</th>\n",
       "      <th>Month</th>\n",
       "      <th>Year</th>\n",
       "      <th>Weekday</th>\n",
       "    </tr>\n",
       "  </thead>\n",
       "  <tbody>\n",
       "    <tr>\n",
       "      <th>0</th>\n",
       "      <td>3PM</td>\n",
       "      <td>2014-03-24</td>\n",
       "      <td>0.384</td>\n",
       "      <td>3.0</td>\n",
       "      <td>PM</td>\n",
       "      <td>24.0</td>\n",
       "      <td>Mar</td>\n",
       "      <td>2014.0</td>\n",
       "      <td>Monday</td>\n",
       "    </tr>\n",
       "    <tr>\n",
       "      <th>1</th>\n",
       "      <td>5AM</td>\n",
       "      <td>2014-08-15</td>\n",
       "      <td>1.201</td>\n",
       "      <td>5.0</td>\n",
       "      <td>AM</td>\n",
       "      <td>15.0</td>\n",
       "      <td>Aug</td>\n",
       "      <td>2014.0</td>\n",
       "      <td>Friday</td>\n",
       "    </tr>\n",
       "    <tr>\n",
       "      <th>2</th>\n",
       "      <td>8PM</td>\n",
       "      <td>2014-03-20</td>\n",
       "      <td>1.523</td>\n",
       "      <td>8.0</td>\n",
       "      <td>PM</td>\n",
       "      <td>20.0</td>\n",
       "      <td>Mar</td>\n",
       "      <td>2014.0</td>\n",
       "      <td>Thursday</td>\n",
       "    </tr>\n",
       "    <tr>\n",
       "      <th>3</th>\n",
       "      <td>6PM</td>\n",
       "      <td>2014-04-23</td>\n",
       "      <td>0.424</td>\n",
       "      <td>6.0</td>\n",
       "      <td>PM</td>\n",
       "      <td>23.0</td>\n",
       "      <td>Apr</td>\n",
       "      <td>2014.0</td>\n",
       "      <td>Wednesday</td>\n",
       "    </tr>\n",
       "    <tr>\n",
       "      <th>4</th>\n",
       "      <td>1AM</td>\n",
       "      <td>2014-12-19</td>\n",
       "      <td>0.209</td>\n",
       "      <td>1.0</td>\n",
       "      <td>AM</td>\n",
       "      <td>19.0</td>\n",
       "      <td>Dec</td>\n",
       "      <td>2014.0</td>\n",
       "      <td>Friday</td>\n",
       "    </tr>\n",
       "  </tbody>\n",
       "</table>\n",
       "</div>"
      ],
      "text/plain": [
       "  Time       Date    kWh  Hour AM/PM   Day Month    Year    Weekday\n",
       "0  3PM 2014-03-24  0.384   3.0    PM  24.0   Mar  2014.0     Monday\n",
       "1  5AM 2014-08-15  1.201   5.0    AM  15.0   Aug  2014.0     Friday\n",
       "2  8PM 2014-03-20  1.523   8.0    PM  20.0   Mar  2014.0   Thursday\n",
       "3  6PM 2014-04-23  0.424   6.0    PM  23.0   Apr  2014.0  Wednesday\n",
       "4  1AM 2014-12-19  0.209   1.0    AM  19.0   Dec  2014.0     Friday"
      ]
     },
     "execution_count": 256,
     "metadata": {},
     "output_type": "execute_result"
    }
   ],
   "source": [
    "df['Weekday'] = df['Date'].dt.day_name()\n",
    "df.head()"
   ]
  },
  {
   "cell_type": "code",
   "execution_count": null,
   "id": "bd287616-e7cc-4a96-815a-48d5311962df",
   "metadata": {},
   "outputs": [],
   "source": []
  },
  {
   "cell_type": "markdown",
   "id": "8cccb517-44cd-4753-b709-aec68697c5ea",
   "metadata": {},
   "source": [
    "# Question 1  - b. 0.782kWh\n",
    "#What is your average hourly electricity usage?"
   ]
  },
  {
   "cell_type": "code",
   "execution_count": 259,
   "id": "5ef4653e-0cea-4839-8b80-e9833ff7736c",
   "metadata": {},
   "outputs": [
    {
     "data": {
      "text/html": [
       "<div>\n",
       "<style scoped>\n",
       "    .dataframe tbody tr th:only-of-type {\n",
       "        vertical-align: middle;\n",
       "    }\n",
       "\n",
       "    .dataframe tbody tr th {\n",
       "        vertical-align: top;\n",
       "    }\n",
       "\n",
       "    .dataframe thead th {\n",
       "        text-align: right;\n",
       "    }\n",
       "</style>\n",
       "<table border=\"1\" class=\"dataframe\">\n",
       "  <thead>\n",
       "    <tr style=\"text-align: right;\">\n",
       "      <th></th>\n",
       "      <th>No Flex</th>\n",
       "      <th>Unnamed: 1</th>\n",
       "      <th>Unnamed: 2</th>\n",
       "      <th>Monthly Flex</th>\n",
       "      <th>Unnamed: 5</th>\n",
       "      <th>Unnamed: 6</th>\n",
       "      <th>Hourly Flex</th>\n",
       "      <th>Unnamed: 9</th>\n",
       "      <th>Unnamed: 10</th>\n",
       "    </tr>\n",
       "  </thead>\n",
       "  <tbody>\n",
       "    <tr>\n",
       "      <th>0</th>\n",
       "      <td></td>\n",
       "      <td></td>\n",
       "      <td></td>\n",
       "      <td></td>\n",
       "      <td></td>\n",
       "      <td></td>\n",
       "      <td></td>\n",
       "      <td></td>\n",
       "      <td></td>\n",
       "    </tr>\n",
       "    <tr>\n",
       "      <th>1</th>\n",
       "      <td>Flat Rate</td>\n",
       "      <td>0.21</td>\n",
       "      <td>$/kWh</td>\n",
       "      <td>January</td>\n",
       "      <td>0.2</td>\n",
       "      <td>$/kWh</td>\n",
       "      <td>12AM until 1AM</td>\n",
       "      <td>0.1</td>\n",
       "      <td>$/kWh</td>\n",
       "    </tr>\n",
       "    <tr>\n",
       "      <th>2</th>\n",
       "      <td></td>\n",
       "      <td></td>\n",
       "      <td></td>\n",
       "      <td>February</td>\n",
       "      <td>0.19</td>\n",
       "      <td>$/kWh</td>\n",
       "      <td>1AM until 2AM</td>\n",
       "      <td>0.1</td>\n",
       "      <td>$/kWh</td>\n",
       "    </tr>\n",
       "    <tr>\n",
       "      <th>3</th>\n",
       "      <td></td>\n",
       "      <td></td>\n",
       "      <td></td>\n",
       "      <td>March</td>\n",
       "      <td>0.17</td>\n",
       "      <td>$/kWh</td>\n",
       "      <td>2AM until 3AM</td>\n",
       "      <td>0.1</td>\n",
       "      <td>$/kWh</td>\n",
       "    </tr>\n",
       "    <tr>\n",
       "      <th>4</th>\n",
       "      <td></td>\n",
       "      <td></td>\n",
       "      <td></td>\n",
       "      <td>April</td>\n",
       "      <td>0.18</td>\n",
       "      <td>$/kWh</td>\n",
       "      <td>3AM until 4AM</td>\n",
       "      <td>0.1</td>\n",
       "      <td>$/kWh</td>\n",
       "    </tr>\n",
       "  </tbody>\n",
       "</table>\n",
       "</div>"
      ],
      "text/plain": [
       "     No Flex Unnamed: 1 Unnamed: 2 Monthly Flex Unnamed: 5 Unnamed: 6  \\\n",
       "0                                                                       \n",
       "1  Flat Rate       0.21      $/kWh      January        0.2      $/kWh   \n",
       "2                                      February       0.19      $/kWh   \n",
       "3                                         March       0.17      $/kWh   \n",
       "4                                         April       0.18      $/kWh   \n",
       "\n",
       "      Hourly Flex Unnamed: 9 Unnamed: 10  \n",
       "0                                         \n",
       "1  12AM until 1AM        0.1       $/kWh  \n",
       "2   1AM until 2AM        0.1       $/kWh  \n",
       "3   2AM until 3AM        0.1       $/kWh  \n",
       "4   3AM until 4AM        0.1       $/kWh  "
      ]
     },
     "execution_count": 259,
     "metadata": {},
     "output_type": "execute_result"
    }
   ],
   "source": [
    "data1 = pd.read_excel('data_cleaning.xlsx', sheet_name='Contracts', \n",
    "                     usecols = \"A:C, E:G, I:K\",  header = 0, keep_default_na=False, skiprows=10)\n",
    "\n",
    "#'data_cleaning.xlsx'\tThe Excel file to read from\n",
    "#sheet_name='Contracts'\tUse the sheet named \"Contracts\"\n",
    "#usecols=\"A:C, E:G, I:K\"\tOnly pull in selected columns (skip D, H, etc.)\n",
    "#header=0\tUse the first row after skipping as column names\n",
    "#keep_default_na=False\tPrevent empty cells from being turned into NaN automatically\n",
    "#skiprows=10\tSkip the first 10 rows (e.g., metadata, notes, etc.)\n",
    "\n",
    "data1 =pd.DataFrame(data1)\n",
    "data1.head()"
   ]
  },
  {
   "cell_type": "code",
   "execution_count": 261,
   "id": "db76f128-1824-45a1-9d40-35d5dd405507",
   "metadata": {},
   "outputs": [
    {
     "data": {
      "text/plain": [
       "0.7817481735159817"
      ]
     },
     "execution_count": 261,
     "metadata": {},
     "output_type": "execute_result"
    }
   ],
   "source": [
    "df['kWh'].mean()"
   ]
  },
  {
   "cell_type": "markdown",
   "id": "4703056b-9b03-4f6e-a18c-28a683277102",
   "metadata": {},
   "source": [
    "# Question 2    - d. 0.834kWh\n",
    "#What is your average electricity usage perhour in February?"
   ]
  },
  {
   "cell_type": "code",
   "execution_count": 264,
   "id": "12a23e71-88b7-4df1-9792-4b10a78c670e",
   "metadata": {},
   "outputs": [
    {
     "data": {
      "text/plain": [
       "Month\n",
       "Apr    0.210355\n",
       "Aug    0.852304\n",
       "Dec    0.763689\n",
       "Feb    0.833735\n",
       "Jan    1.401425\n",
       "Jul    1.687300\n",
       "Jun    1.255096\n",
       "Mar    0.566562\n",
       "May    0.560987\n",
       "Nov    0.322806\n",
       "Oct    0.421665\n",
       "Sep    0.485011\n",
       "Name: kWh, dtype: float64"
      ]
     },
     "execution_count": 264,
     "metadata": {},
     "output_type": "execute_result"
    }
   ],
   "source": [
    "a = df.groupby('Month')['kWh'].mean()\n",
    "a"
   ]
  },
  {
   "cell_type": "code",
   "execution_count": 266,
   "id": "ac18b827-4f2b-45ed-9d4c-87be7067f3e6",
   "metadata": {},
   "outputs": [
    {
     "data": {
      "text/plain": [
       "0.8337347242921014"
      ]
     },
     "execution_count": 266,
     "metadata": {},
     "output_type": "execute_result"
    }
   ],
   "source": [
    "a.iloc[3]"
   ]
  },
  {
   "cell_type": "markdown",
   "id": "696ee1be-a2dd-4bcc-9c57-74786d04fe76",
   "metadata": {},
   "source": [
    "# Question 3    - c. Tuesday\n",
    "#Which day of the week has the highest average usage?"
   ]
  },
  {
   "cell_type": "code",
   "execution_count": 269,
   "id": "9acf37b8-37b5-49e3-a2e9-7775196ff257",
   "metadata": {},
   "outputs": [
    {
     "data": {
      "text/plain": [
       "Weekday\n",
       "Tuesday      0.724843\n",
       "Monday       0.725894\n",
       "Wednesday    0.733699\n",
       "Thursday     0.746375\n",
       "Friday       0.753666\n",
       "Saturday     0.890300\n",
       "Sunday       0.898601\n",
       "Name: kWh, dtype: float64"
      ]
     },
     "execution_count": 269,
     "metadata": {},
     "output_type": "execute_result"
    }
   ],
   "source": [
    "b = df.groupby('Weekday')['kWh'].mean().sort_values()\n",
    "b"
   ]
  },
  {
   "cell_type": "markdown",
   "id": "3fa33215-3016-4734-a204-bad750dc41f7",
   "metadata": {},
   "source": [
    "# Question 4    - Answer :  10.593999999999996\n",
    "#What is the highest amount of electricityused in a continuous 4 hour period?"
   ]
  },
  {
   "cell_type": "code",
   "execution_count": 272,
   "id": "1878afdb-a572-41bc-b42f-35ee21858172",
   "metadata": {},
   "outputs": [
    {
     "name": "stdout",
     "output_type": "stream",
     "text": [
      "Answer :  10.593999999999996\n"
     ]
    }
   ],
   "source": [
    "a = df['kWh'].rolling(4).sum().max()\n",
    "print('Answer : ', a)"
   ]
  },
  {
   "cell_type": "markdown",
   "id": "b7ebb67e-7b71-49e6-87b5-ccc519977976",
   "metadata": {},
   "source": [
    "# Question 5  - Answer :  1433.2372\n",
    "#Based on your historic electricity usage, what would your annual cost ofelectricitybe under the \"Monthly Flex\"contract?\n"
   ]
  },
  {
   "cell_type": "code",
   "execution_count": 275,
   "id": "0c58a40f-16a4-40e2-b27e-6f7af985d3e9",
   "metadata": {
    "scrolled": true
   },
   "outputs": [
    {
     "data": {
      "text/html": [
       "<div>\n",
       "<style scoped>\n",
       "    .dataframe tbody tr th:only-of-type {\n",
       "        vertical-align: middle;\n",
       "    }\n",
       "\n",
       "    .dataframe tbody tr th {\n",
       "        vertical-align: top;\n",
       "    }\n",
       "\n",
       "    .dataframe thead th {\n",
       "        text-align: right;\n",
       "    }\n",
       "</style>\n",
       "<table border=\"1\" class=\"dataframe\">\n",
       "  <thead>\n",
       "    <tr style=\"text-align: right;\">\n",
       "      <th></th>\n",
       "      <th>No Flex</th>\n",
       "      <th>Unnamed: 1</th>\n",
       "      <th>Unnamed: 2</th>\n",
       "      <th>Monthly Flex</th>\n",
       "      <th>Unnamed: 5</th>\n",
       "      <th>Unnamed: 6</th>\n",
       "      <th>Hourly Flex</th>\n",
       "      <th>Unnamed: 9</th>\n",
       "      <th>Unnamed: 10</th>\n",
       "    </tr>\n",
       "  </thead>\n",
       "  <tbody>\n",
       "    <tr>\n",
       "      <th>0</th>\n",
       "      <td></td>\n",
       "      <td></td>\n",
       "      <td></td>\n",
       "      <td></td>\n",
       "      <td></td>\n",
       "      <td></td>\n",
       "      <td></td>\n",
       "      <td></td>\n",
       "      <td></td>\n",
       "    </tr>\n",
       "    <tr>\n",
       "      <th>1</th>\n",
       "      <td>Flat Rate</td>\n",
       "      <td>0.21</td>\n",
       "      <td>$/kWh</td>\n",
       "      <td>January</td>\n",
       "      <td>0.2</td>\n",
       "      <td>$/kWh</td>\n",
       "      <td>12AM until 1AM</td>\n",
       "      <td>0.1</td>\n",
       "      <td>$/kWh</td>\n",
       "    </tr>\n",
       "    <tr>\n",
       "      <th>2</th>\n",
       "      <td></td>\n",
       "      <td></td>\n",
       "      <td></td>\n",
       "      <td>February</td>\n",
       "      <td>0.19</td>\n",
       "      <td>$/kWh</td>\n",
       "      <td>1AM until 2AM</td>\n",
       "      <td>0.1</td>\n",
       "      <td>$/kWh</td>\n",
       "    </tr>\n",
       "  </tbody>\n",
       "</table>\n",
       "</div>"
      ],
      "text/plain": [
       "     No Flex Unnamed: 1 Unnamed: 2 Monthly Flex Unnamed: 5 Unnamed: 6  \\\n",
       "0                                                                       \n",
       "1  Flat Rate       0.21      $/kWh      January        0.2      $/kWh   \n",
       "2                                      February       0.19      $/kWh   \n",
       "\n",
       "      Hourly Flex Unnamed: 9 Unnamed: 10  \n",
       "0                                         \n",
       "1  12AM until 1AM        0.1       $/kWh  \n",
       "2   1AM until 2AM        0.1       $/kWh  "
      ]
     },
     "execution_count": 275,
     "metadata": {},
     "output_type": "execute_result"
    }
   ],
   "source": [
    "data1.head(3)"
   ]
  },
  {
   "cell_type": "code",
   "execution_count": 277,
   "id": "bbf8e1dc-1787-4501-973b-8c9896b339b8",
   "metadata": {},
   "outputs": [
    {
     "data": {
      "text/html": [
       "<div>\n",
       "<style scoped>\n",
       "    .dataframe tbody tr th:only-of-type {\n",
       "        vertical-align: middle;\n",
       "    }\n",
       "\n",
       "    .dataframe tbody tr th {\n",
       "        vertical-align: top;\n",
       "    }\n",
       "\n",
       "    .dataframe thead th {\n",
       "        text-align: right;\n",
       "    }\n",
       "</style>\n",
       "<table border=\"1\" class=\"dataframe\">\n",
       "  <thead>\n",
       "    <tr style=\"text-align: right;\">\n",
       "      <th></th>\n",
       "      <th>Time</th>\n",
       "      <th>Date</th>\n",
       "      <th>kWh</th>\n",
       "      <th>Hour</th>\n",
       "      <th>AM/PM</th>\n",
       "      <th>Day</th>\n",
       "      <th>Month</th>\n",
       "      <th>Year</th>\n",
       "      <th>Weekday</th>\n",
       "    </tr>\n",
       "  </thead>\n",
       "  <tbody>\n",
       "    <tr>\n",
       "      <th>0</th>\n",
       "      <td>3PM</td>\n",
       "      <td>2014-03-24</td>\n",
       "      <td>0.384</td>\n",
       "      <td>3.0</td>\n",
       "      <td>PM</td>\n",
       "      <td>24.0</td>\n",
       "      <td>Mar</td>\n",
       "      <td>2014.0</td>\n",
       "      <td>Monday</td>\n",
       "    </tr>\n",
       "    <tr>\n",
       "      <th>1</th>\n",
       "      <td>5AM</td>\n",
       "      <td>2014-08-15</td>\n",
       "      <td>1.201</td>\n",
       "      <td>5.0</td>\n",
       "      <td>AM</td>\n",
       "      <td>15.0</td>\n",
       "      <td>Aug</td>\n",
       "      <td>2014.0</td>\n",
       "      <td>Friday</td>\n",
       "    </tr>\n",
       "    <tr>\n",
       "      <th>2</th>\n",
       "      <td>8PM</td>\n",
       "      <td>2014-03-20</td>\n",
       "      <td>1.523</td>\n",
       "      <td>8.0</td>\n",
       "      <td>PM</td>\n",
       "      <td>20.0</td>\n",
       "      <td>Mar</td>\n",
       "      <td>2014.0</td>\n",
       "      <td>Thursday</td>\n",
       "    </tr>\n",
       "  </tbody>\n",
       "</table>\n",
       "</div>"
      ],
      "text/plain": [
       "  Time       Date    kWh  Hour AM/PM   Day Month    Year   Weekday\n",
       "0  3PM 2014-03-24  0.384   3.0    PM  24.0   Mar  2014.0    Monday\n",
       "1  5AM 2014-08-15  1.201   5.0    AM  15.0   Aug  2014.0    Friday\n",
       "2  8PM 2014-03-20  1.523   8.0    PM  20.0   Mar  2014.0  Thursday"
      ]
     },
     "execution_count": 277,
     "metadata": {},
     "output_type": "execute_result"
    }
   ],
   "source": [
    "df.head(3)"
   ]
  },
  {
   "cell_type": "code",
   "execution_count": 279,
   "id": "95ae27d0-a69d-4131-a9c8-e25e2573691e",
   "metadata": {},
   "outputs": [
    {
     "name": "stdout",
     "output_type": "stream",
     "text": [
      "<class 'pandas.core.frame.DataFrame'>\n",
      "RangeIndex: 25 entries, 0 to 24\n",
      "Data columns (total 9 columns):\n",
      " #   Column        Non-Null Count  Dtype \n",
      "---  ------        --------------  ----- \n",
      " 0   No Flex       25 non-null     object\n",
      " 1   Unnamed: 1    25 non-null     object\n",
      " 2   Unnamed: 2    25 non-null     object\n",
      " 3   Monthly Flex  25 non-null     object\n",
      " 4   Unnamed: 5    25 non-null     object\n",
      " 5   Unnamed: 6    25 non-null     object\n",
      " 6   Hourly Flex   25 non-null     object\n",
      " 7   Unnamed: 9    25 non-null     object\n",
      " 8   Unnamed: 10   25 non-null     object\n",
      "dtypes: object(9)\n",
      "memory usage: 1.9+ KB\n"
     ]
    }
   ],
   "source": [
    "data1.info()"
   ]
  },
  {
   "cell_type": "code",
   "execution_count": 281,
   "id": "5d7c528a-4dfa-4d48-969c-e82c1d2c3159",
   "metadata": {},
   "outputs": [
    {
     "data": {
      "text/plain": [
       "Month\n",
       "Apr     151.666\n",
       "Aug     635.819\n",
       "Dec     568.948\n",
       "Feb     559.436\n",
       "Jan    1042.660\n",
       "Jul    1255.351\n",
       "Jun     899.904\n",
       "Mar     422.655\n",
       "May     416.813\n",
       "Nov     232.420\n",
       "Oct     313.719\n",
       "Sep     348.723\n",
       "Name: kWh, dtype: float64"
      ]
     },
     "execution_count": 281,
     "metadata": {},
     "output_type": "execute_result"
    }
   ],
   "source": [
    "month = list(data1.loc[1:12, 'Monthly Flex'])\n",
    "cost = list(data1.loc[1:12, 'Unnamed: 5'])\n",
    "month_usage = df.groupby('Month')['kWh'].sum()\n",
    "month_usage"
   ]
  },
  {
   "cell_type": "code",
   "execution_count": 283,
   "id": "77e2d8f2-e978-4821-9ac8-6d7ac18cb49a",
   "metadata": {},
   "outputs": [
    {
     "name": "stdout",
     "output_type": "stream",
     "text": [
      "Answer :  1433.2372\n"
     ]
    }
   ],
   "source": [
    "month_cost = cost * month_usage\n",
    "Month_Flex = sum(month_cost)\n",
    "print('Answer : ', Month_Flex)"
   ]
  },
  {
   "cell_type": "markdown",
   "id": "7bee996e-4370-439d-a6b5-45a628cb2a47",
   "metadata": {},
   "source": [
    "# Question 6   -  c. The Hourly Flex plan\n",
    "#Based on your historic electricity usage, which of the three contracts would pro- duce the lowest annual cost?"
   ]
  },
  {
   "cell_type": "code",
   "execution_count": 286,
   "id": "a0b2f8cb-d3bb-40b1-a50e-38376d3aa0c8",
   "metadata": {},
   "outputs": [
    {
     "data": {
      "text/plain": [
       "1438.10394"
      ]
     },
     "execution_count": 286,
     "metadata": {},
     "output_type": "execute_result"
    }
   ],
   "source": [
    "no_flex = (df['kWh'].sum())*0.21\n",
    "no_flex"
   ]
  },
  {
   "cell_type": "code",
   "execution_count": 288,
   "id": "28e921eb-5427-4806-8dbd-285a813ebbdb",
   "metadata": {},
   "outputs": [
    {
     "data": {
      "text/plain": [
       "1389.35486"
      ]
     },
     "execution_count": 288,
     "metadata": {},
     "output_type": "execute_result"
    }
   ],
   "source": [
    "hour_usage = df.groupby(['AM/PM','Hour'])['kWh'].sum()\n",
    "hour_tarif = list(data1.loc[1:24, 'Unnamed: 9'])\n",
    "hour_flex = sum(hour_tarif * hour_usage)\n",
    "hour_flex"
   ]
  },
  {
   "cell_type": "code",
   "execution_count": 290,
   "id": "826bca5d-2bbf-4fc8-bbf4-dfb999597e43",
   "metadata": {},
   "outputs": [
    {
     "data": {
      "text/plain": [
       "1433.2372"
      ]
     },
     "execution_count": 290,
     "metadata": {},
     "output_type": "execute_result"
    }
   ],
   "source": [
    "Month_Flex"
   ]
  },
  {
   "cell_type": "code",
   "execution_count": 292,
   "id": "251758b8-46a0-4d6c-9e0a-152407e64f63",
   "metadata": {},
   "outputs": [
    {
     "name": "stdout",
     "output_type": "stream",
     "text": [
      "no_flex :  1438.10394\n",
      "hour_flex :  1389.35486\n",
      "month_Flex :  1433.2372\n"
     ]
    }
   ],
   "source": [
    "print(\"no_flex : \", no_flex)\n",
    "print(\"hour_flex : \", hour_flex)\n",
    "print(\"month_Flex : \", Month_Flex)"
   ]
  },
  {
   "cell_type": "code",
   "execution_count": null,
   "id": "9504a355-1856-4e03-9537-5795b10c39a8",
   "metadata": {},
   "outputs": [],
   "source": []
  }
 ],
 "metadata": {
  "kernelspec": {
   "display_name": "Python 3 (ipykernel)",
   "language": "python",
   "name": "python3"
  },
  "language_info": {
   "codemirror_mode": {
    "name": "ipython",
    "version": 3
   },
   "file_extension": ".py",
   "mimetype": "text/x-python",
   "name": "python",
   "nbconvert_exporter": "python",
   "pygments_lexer": "ipython3",
   "version": "3.12.7"
  }
 },
 "nbformat": 4,
 "nbformat_minor": 5
}
